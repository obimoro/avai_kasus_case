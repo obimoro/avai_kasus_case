{
 "cells": [
  {
   "attachments": {},
   "cell_type": "markdown",
   "metadata": {},
   "source": [
    "#### Oppsett - kjør dette først!"
   ]
  },
  {
   "cell_type": "code",
   "execution_count": 36,
   "metadata": {},
   "outputs": [],
   "source": [
    "from asrtoolkit import cer, wer\n",
    "import requests\n",
    "import mimetypes\n",
    "import cv2\n",
    "import pytesseract"
   ]
  },
  {
   "cell_type": "code",
   "execution_count": 37,
   "metadata": {},
   "outputs": [],
   "source": [
    "img_path = './db60044923000260.jpg'"
   ]
  },
  {
   "cell_type": "code",
   "execution_count": 38,
   "metadata": {},
   "outputs": [],
   "source": [
    "fasit = open('./db60044923000260_fasit.txt').read()"
   ]
  },
  {
   "cell_type": "code",
   "execution_count": 39,
   "metadata": {},
   "outputs": [],
   "source": [
    "auth_token = '266575f8-aad9-457e-8cbf-f1d7223c2a51'"
   ]
  },
  {
   "cell_type": "code",
   "execution_count": 40,
   "metadata": {},
   "outputs": [],
   "source": [
    "from pathlib import Path\n",
    "def download_urnid_from_da(urnid: str, destination_directory: str, auth_token: str):\n",
    "    \"\"\"\n",
    "    Download the requested urnid to a specified directory\n",
    "    Args:\n",
    "        urnid (str): 16-character urnid\n",
    "        destination_directory (str): path to directory to download image to\n",
    "        auth_token (str): DA token to use for downloading\n",
    "    \"\"\"\n",
    "    API_IMAGE_DOWNLOAD = 'https://media.digitalarkivet.no/api/v1/image/{}'\n",
    "    response = requests.get(f'{API_IMAGE_DOWNLOAD.format(urnid)}.jpg', headers={'auth-token': auth_token})\n",
    "    extension = mimetypes.guess_extension(response.headers['Content-Type'].split(';')[0])\n",
    "    destination_directory = Path(destination_directory)\n",
    "    destination_directory.mkdir(exist_ok=True)\n",
    "    output_file_path = (destination_directory / urnid).with_suffix(extension)\n",
    "    with open(output_file_path, 'wb') as f:\n",
    "        f.write(response.content)\n",
    "    return str(output_file_path)"
   ]
  },
  {
   "attachments": {},
   "cell_type": "markdown",
   "metadata": {},
   "source": [
    "### Del 1:\n",
    "Definer funksjonen `ocr_file`:"
   ]
  },
  {
   "cell_type": "code",
   "execution_count": 41,
   "metadata": {},
   "outputs": [],
   "source": [
    "def ocr_file(img_path: str) -> str:\n",
    "    # Load image with OpenCV\n",
    "    img = cv2.imread(img_path)\n",
    "\n",
    "    # Define region of interest (ROI) x,y,w,h\n",
    "    x = 350\n",
    "    y = 200\n",
    "    width = 1100\n",
    "    height = 2048\n",
    "    \n",
    "    # Crop the image to ROI\n",
    "    roi = img[y:y+height, x:x+width]\n",
    "\n",
    "    # Convert cropped image to grayscale\n",
    "    gray_img = cv2.cvtColor(roi, cv2.COLOR_BGR2GRAY)\n",
    "\n",
    "    # Extract text from image\n",
    "    raw_text = pytesseract.image_to_string(gray_img, config='--psm 6 -l nor')\n",
    "    \n",
    "    return raw_text"
   ]
  },
  {
   "attachments": {},
   "cell_type": "markdown",
   "metadata": {},
   "source": [
    "Kjør disse cellene for å evaluere:"
   ]
  },
  {
   "cell_type": "code",
   "execution_count": 42,
   "metadata": {},
   "outputs": [],
   "source": [
    "ocr_result = ocr_file(img_path)"
   ]
  },
  {
   "cell_type": "code",
   "execution_count": 43,
   "metadata": {},
   "outputs": [
    {
     "name": "stdout",
     "output_type": "stream",
     "text": [
      "!\n",
      "\n",
      "nrebostats territorium, aslik at det intsrnasjonals organ\n",
      "ved lov gis myndighst endog innen det norske rikes grenser. 1\n",
      "\n",
      "Jeg antar at man ved tolkinger av Grl.'s $ 1 ikke 1\n",
      "kommer utenom en viss inflytelse av de tradisjonelle fokke- 1\n",
      "rettslige suverenitstsforestillinger og de historisk-\n",
      "tradisjonelle innd«linger av statenes innbyrdes forhold i\n",
      "statsresttslige og folkerettsligeforbindelser alt etter\n",
      "hvitket formelt gyldighetsgrunnlag de har. Det er nemlig\n",
      "åpenbart at grunnloven må forutsette en vidtgående adgang\n",
      "for Norge til å påta seg fotrkerettslige forpliktelser som\n",
      "nödvendigvis må bagrense landets handlefrihet. Og når det\n",
      "gjelder forpliktelser og forbindelser som tradisjonelt har l\n",
      "vært ansett som folkerettslige ( og fölgelig FOrmEfJ% -\n",
      "begrepsmessig - suverenitstsbevarende i fotkerettslig\n",
      "forstand) er det naturlig å anta at grunnloven tillater\n",
      "större innskrenkting ø handlefrihetesn enn når det gjelder\n",
      "\n",
      "ør orå\n",
      "forpliktelser og forbindelserYso tradisjonelt har vært\n",
      "Mlae iinder lek-\n",
      "\n",
      "reknet for å vere—s étzfärebtsljge?—äs 7LÅZ/<\n",
      "\n",
      "Disse tradisjonelle sondringer er imidlertid som nevnt\n",
      "uklare og usikr* i sin anvendelsé og svaresr ik.e alltid\n",
      "til reelle forskjeller med omsyn til forpliktelsenes innhold,\n",
      "\n",
      "(ømrliå a 191)\n",
      "\n",
      "se nærmere Ross l.c. s. 41-57 og s. 125 -143. De bör derfor\n",
      "ikxke alene legses til grunn for noen æbsolnit og ubetinget\n",
      "forskjell i bedömmelsen når det gjelder forholdet til\n",
      "Grl.'s $ 1.. Det i siste instans avgjörend* ånder denne\n",
      "bedömmelse må være hvilken grad av reell frihet og virke-\n",
      "lig sjölstende rettsoppfatningen til enhver tid krever\n",
      "i forhold til statenss fellesskåp i verdenssamfunnet. Den\n",
      "absolutte suverenitet (eller sjölstende) er jo ikre mulig unde\n",
      "noe folkerettslig regime. Grl.'s $ 1 må vel i förste rekke\n",
      "\f\n"
     ]
    }
   ],
   "source": [
    "print(ocr_result)"
   ]
  },
  {
   "cell_type": "code",
   "execution_count": 35,
   "metadata": {},
   "outputs": [
    {
     "name": "stdout",
     "output_type": "stream",
     "text": [
      "character error rate: 8.32854681217691\n",
      "word error rate: 22.60536398467433\n"
     ]
    }
   ],
   "source": [
    "print(f'character error rate: {cer(fasit, ocr_result)}\\nword error rate: {wer(fasit, ocr_result)}')"
   ]
  },
  {
   "attachments": {},
   "cell_type": "markdown",
   "metadata": {},
   "source": [
    "### Del 2\n",
    "Filen 127588_urnids.txt er en liste over urnid-er, eller pekere til bildefiler. Disse kan brukes opp mot API-et til Digitalarkivet for å hente ut bilder med funksjonen `download_urnid_from_da`, som du har fått i starten. Funksjonen tar inn en urnid og returnerer banen som bildet er lastet ned til."
   ]
  },
  {
   "cell_type": "code",
   "execution_count": 33,
   "metadata": {},
   "outputs": [],
   "source": [
    "urnids = open('./127588_urnids.txt').read().split('\\n')"
   ]
  },
  {
   "cell_type": "code",
   "execution_count": 34,
   "metadata": {},
   "outputs": [
    {
     "name": "stdout",
     "output_type": "stream",
     "text": [
      "images/db60044923000011.jpg\n"
     ]
    }
   ],
   "source": [
    "download_path_for_image_number_10 = download_urnid_from_da(urnids[10], './images', auth_token)\n",
    "print(download_path_for_image_number_10)"
   ]
  },
  {
   "attachments": {},
   "cell_type": "markdown",
   "metadata": {},
   "source": [
    "Bruk denne listen sammen med `download_urnid_from_da`, som du fikk, og `ocr_file`, som du har definert, til å lage et korpus over alle dokumentene i denne kilden. Kjør noe NLP på dette som du mener kan være interessant."
   ]
  },
  {
   "cell_type": "code",
   "execution_count": null,
   "metadata": {},
   "outputs": [],
   "source": []
  }
 ],
 "metadata": {
  "kernelspec": {
   "display_name": "Python 3",
   "language": "python",
   "name": "python3"
  },
  "language_info": {
   "codemirror_mode": {
    "name": "ipython",
    "version": 3
   },
   "file_extension": ".py",
   "mimetype": "text/x-python",
   "name": "python",
   "nbconvert_exporter": "python",
   "pygments_lexer": "ipython3",
   "version": "3.8.10"
  }
 },
 "nbformat": 4,
 "nbformat_minor": 4
}
