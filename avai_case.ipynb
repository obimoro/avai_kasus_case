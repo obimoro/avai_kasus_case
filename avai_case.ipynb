{
 "cells": [
  {
   "attachments": {},
   "cell_type": "markdown",
   "metadata": {},
   "source": [
    "#### Oppsett - kjør dette først!"
   ]
  },
  {
   "cell_type": "code",
   "execution_count": 74,
   "metadata": {},
   "outputs": [],
   "source": [
    "from asrtoolkit import cer, wer\n",
    "import requests\n",
    "import mimetypes\n",
    "import cv2\n",
    "import pytesseract"
   ]
  },
  {
   "cell_type": "code",
   "execution_count": 75,
   "metadata": {},
   "outputs": [],
   "source": [
    "img_path = './db60044923000260.jpg'"
   ]
  },
  {
   "cell_type": "code",
   "execution_count": 76,
   "metadata": {},
   "outputs": [],
   "source": [
    "fasit = open('./db60044923000260_fasit.txt').read()"
   ]
  },
  {
   "cell_type": "code",
   "execution_count": 77,
   "metadata": {},
   "outputs": [],
   "source": [
    "auth_token = '266575f8-aad9-457e-8cbf-f1d7223c2a51'"
   ]
  },
  {
   "cell_type": "code",
   "execution_count": 78,
   "metadata": {},
   "outputs": [],
   "source": [
    "from pathlib import Path\n",
    "def download_urnid_from_da(urnid: str, destination_directory: str, auth_token: str):\n",
    "    \"\"\"\n",
    "    Download the requested urnid to a specified directory\n",
    "    Args:\n",
    "        urnid (str): 16-character urnid\n",
    "        destination_directory (str): path to directory to download image to\n",
    "        auth_token (str): DA token to use for downloading\n",
    "    \"\"\"\n",
    "    API_IMAGE_DOWNLOAD = 'https://media.digitalarkivet.no/api/v1/image/{}'\n",
    "    response = requests.get(f'{API_IMAGE_DOWNLOAD.format(urnid)}.jpg', headers={'auth-token': auth_token})\n",
    "    extension = mimetypes.guess_extension(response.headers['Content-Type'].split(';')[0])\n",
    "    destination_directory = Path(destination_directory)\n",
    "    destination_directory.mkdir(exist_ok=True)\n",
    "    output_file_path = (destination_directory / urnid).with_suffix(extension)\n",
    "    with open(output_file_path, 'wb') as f:\n",
    "        f.write(response.content)\n",
    "    return str(output_file_path)"
   ]
  },
  {
   "attachments": {},
   "cell_type": "markdown",
   "metadata": {},
   "source": [
    "### Del 1:\n",
    "Definer funksjonen `ocr_file`:"
   ]
  },
  {
   "cell_type": "code",
   "execution_count": 79,
   "metadata": {},
   "outputs": [],
   "source": [
    "def ocr_file(img_path: str, use_roi: bool = False, \n",
    "             x: int = 0, y: int = 0, width: int = 0, height: int = 0,\n",
    "             grayscale: bool = False) -> str:\n",
    "    # Load image with OpenCV\n",
    "    img = cv2.imread(img_path)\n",
    "\n",
    "    if use_roi:\n",
    "        # Define region of interest (ROI) x,y,w,h\n",
    "        # Crop the image to ROI\n",
    "        roi = img[y:y+height, x:x+width]\n",
    "        img = roi\n",
    "\n",
    "    if grayscale:\n",
    "        # Convert cropped image to grayscale\n",
    "        img = cv2.cvtColor(img, cv2.COLOR_BGR2GRAY)\n",
    "        \n",
    "    # Extract text from image\n",
    "    raw_text = pytesseract.image_to_string(img, config='--psm 6 -l nor')\n",
    "    \n",
    "    return raw_text"
   ]
  },
  {
   "attachments": {},
   "cell_type": "markdown",
   "metadata": {},
   "source": [
    "Kjør disse cellene for å evaluere:"
   ]
  },
  {
   "cell_type": "code",
   "execution_count": 83,
   "metadata": {},
   "outputs": [],
   "source": [
    "ocr_result = ocr_file(img_path, True, 350, 200, 1100, 2048, True)"
   ]
  },
  {
   "cell_type": "code",
   "execution_count": 84,
   "metadata": {},
   "outputs": [
    {
     "name": "stdout",
     "output_type": "stream",
     "text": [
      "!\n",
      "\n",
      "nrebostats territorium, aslik at det intsrnasjonals organ\n",
      "ved lov gis myndighst endog innen det norske rikes grenser. 1\n",
      "\n",
      "Jeg antar at man ved tolkinger av Grl.'s $ 1 ikke 1\n",
      "kommer utenom en viss inflytelse av de tradisjonelle fokke- 1\n",
      "rettslige suverenitstsforestillinger og de historisk-\n",
      "tradisjonelle innd«linger av statenes innbyrdes forhold i\n",
      "statsresttslige og folkerettsligeforbindelser alt etter\n",
      "hvitket formelt gyldighetsgrunnlag de har. Det er nemlig\n",
      "åpenbart at grunnloven må forutsette en vidtgående adgang\n",
      "for Norge til å påta seg fotrkerettslige forpliktelser som\n",
      "nödvendigvis må bagrense landets handlefrihet. Og når det\n",
      "gjelder forpliktelser og forbindelser som tradisjonelt har l\n",
      "vært ansett som folkerettslige ( og fölgelig FOrmEfJ% -\n",
      "begrepsmessig - suverenitstsbevarende i fotkerettslig\n",
      "forstand) er det naturlig å anta at grunnloven tillater\n",
      "större innskrenkting ø handlefrihetesn enn når det gjelder\n",
      "\n",
      "ør orå\n",
      "forpliktelser og forbindelserYso tradisjonelt har vært\n",
      "Mlae iinder lek-\n",
      "\n",
      "reknet for å vere—s étzfärebtsljge?—äs 7LÅZ/<\n",
      "\n",
      "Disse tradisjonelle sondringer er imidlertid som nevnt\n",
      "uklare og usikr* i sin anvendelsé og svaresr ik.e alltid\n",
      "til reelle forskjeller med omsyn til forpliktelsenes innhold,\n",
      "\n",
      "(ømrliå a 191)\n",
      "\n",
      "se nærmere Ross l.c. s. 41-57 og s. 125 -143. De bör derfor\n",
      "ikxke alene legses til grunn for noen æbsolnit og ubetinget\n",
      "forskjell i bedömmelsen når det gjelder forholdet til\n",
      "Grl.'s $ 1.. Det i siste instans avgjörend* ånder denne\n",
      "bedömmelse må være hvilken grad av reell frihet og virke-\n",
      "lig sjölstende rettsoppfatningen til enhver tid krever\n",
      "i forhold til statenss fellesskåp i verdenssamfunnet. Den\n",
      "absolutte suverenitet (eller sjölstende) er jo ikre mulig unde\n",
      "noe folkerettslig regime. Grl.'s $ 1 må vel i förste rekke\n",
      "\f\n"
     ]
    }
   ],
   "source": [
    "print(ocr_result)"
   ]
  },
  {
   "cell_type": "code",
   "execution_count": 85,
   "metadata": {},
   "outputs": [
    {
     "name": "stdout",
     "output_type": "stream",
     "text": [
      "character error rate: 8.32854681217691\n",
      "word error rate: 22.60536398467433\n"
     ]
    }
   ],
   "source": [
    "print(f'character error rate: {cer(fasit, ocr_result)}\\nword error rate: {wer(fasit, ocr_result)}')"
   ]
  },
  {
   "attachments": {},
   "cell_type": "markdown",
   "metadata": {},
   "source": [
    "### Del 2\n",
    "Filen 127588_urnids.txt er en liste over urnid-er, eller pekere til bildefiler. Disse kan brukes opp mot API-et til Digitalarkivet for å hente ut bilder med funksjonen `download_urnid_from_da`, som du har fått i starten. Funksjonen tar inn en urnid og returnerer banen som bildet er lastet ned til."
   ]
  },
  {
   "cell_type": "code",
   "execution_count": 10,
   "metadata": {},
   "outputs": [],
   "source": [
    "urnids = open('./127588_urnids.txt').read().split('\\n')"
   ]
  },
  {
   "cell_type": "code",
   "execution_count": 33,
   "metadata": {},
   "outputs": [
    {
     "name": "stdout",
     "output_type": "stream",
     "text": [
      "images/db60044923000011.jpg\n"
     ]
    }
   ],
   "source": [
    "download_path_for_image_number_10 = download_urnid_from_da(urnids[10], './images', auth_token)\n",
    "print(download_path_for_image_number_10)"
   ]
  },
  {
   "attachments": {},
   "cell_type": "markdown",
   "metadata": {},
   "source": [
    "Bruk denne listen sammen med `download_urnid_from_da`, som du fikk, og `ocr_file`, som du har definert, til å lage et korpus over alle dokumentene i denne kilden. Kjør noe NLP på dette som du mener kan være interessant."
   ]
  },
  {
   "cell_type": "code",
   "execution_count": 39,
   "metadata": {},
   "outputs": [
    {
     "name": "stdout",
     "output_type": "stream",
     "text": [
      ".\n",
      "= 3 e\n",
      "v Kapitsl II.\n",
      "V D REGULSR4N DI PILTAK\n",
      "$ 7»\n",
      "Btntons biltek.\n",
      "zrisnmyndighuoteno frstsetter sino prisbustummslessr og mjunnon-\n",
      "fører sine rosgulerondu tilt:k ellers i somsvor asd de rotningslinjer som\n",
      "det måttu være inngått avtrule om ved prisforhnndlingene. Resgulsringesne\n",
      "skul utformes ottur sonmråd med Norgus Bondelr.: og Norsk Bonds og Åmåbruk: .v-\n",
      "lag eller med do ormunisasjoner innoen jordbruket som de to lum pekur ut.\n",
      ". Dot som hor or bostomt om prismyndighetonse tiltek mjelder på\n",
      "sanae måte for tiltak fre -nåre statsmyndighetur.\n",
      "SÆ\n",
      "Jordbruksormmmnist sjonones tiltok.\n",
      "horgos Bondelar og Korsk Bonde og Småbrukarlag skel mjonnomføre\n",
      "sine romulorunde biltak i snaevar nod de revbningslinjer som måtbe være\n",
      "avtelt ved forhandlingeno mvod estebemyndisheotuns, Du to lo skol også\n",
      "nedvirks til at det samnv blir tilfelle med de andre orgenisnsjoner innun-\n",
      "tfor jordbruket,\n",
      "i 9.\n",
      "Justorinseor,\n",
      "\n",
      ". såds statsmyndighsotonv og Norges Bondolrm og Norsk Bonde og\n",
      "småbrukarlng i fellesskap kan krove opptatt forhendlinger om ondringer i\n",
      "de avtaler som måtte være vodtatt ved forhandlingene, såframt det er\n",
      "inntrådt omstondighoter som etber bustosmolse å avbalen gir grunnlag for\n",
      "krav om nye forhandlinger, Om ikke ennon bustenmelse er fnrstsatt i den\n",
      "avtilo som or vedtutt vud prisforhendlingene, kan nye forhondlinmer om\n",
      "\n",
      "e ; i å ; ;\n",
      "prisfastsettinmen kroves oppbuatt nir det or inntrådt vessnblige endrinzsr\n",
      "i prisene på jordbrukets salgsvarer eller driftsmidler og/eller i jord-\n",
      "brukoets lønninger. Nærmore regler for hvilke cndringer skal remnes for\n",
      "vesentlise og for utslagentos størrelse og bersgningsmåten skal frstsotbus\n",
      "ved pristorhendlingene,\n",
      "\n",
      "Om justosringsforhandlingone gjelder forøvrig de semre rogler\n",
      "som for åe ordinsre forhandlinger,\n",
      "5 lo.\n",
      "Produksjonsøkninsen,.\n",
      "ben fordel som jordbrukst kan skaffe seg gjennom økt produksjon\n",
      "og rasjonaliserinm av gårdsdriftun, omsetninmen og foredlingen : skal ved\n",
      "oppsetting av do kortsiktige prisavtelsræså vidt mulig under hensyntagen L\n",
      "£1il landets økonomiføkömme jordbrukst til %cde. ö\n",
      "» s\n",
      "Xruv eller tilt:k å strid med avbalen,\n",
      "Staetsmyndighetons kan kreve opptatt forhandlinger med Norges\n",
      "Bondelsg og Norsk Bonde- og Småbrukarlag i fall det reises krav eller\n",
      "sottes i vork tiltek fra annet hold irnen jordbruket i strid med avtale\n",
      "som er inngått. Fører ikke forhendlirmene til et tilfrudsstilleonde\n",
      "resvitat, kan myndighetene ta de skritt som du finner høvelige overfor de\n",
      "som deltar i aksjonen. Élike skritt skal i størst mulig utstrekning være\n",
      "av dåen art at de ikke skøder jordbrukure som hverken direkte eller øgjennom\n",
      "en organisasjon er med på kravet oller siltaket.\n",
      "\f\n"
     ]
    }
   ],
   "source": [
    "ocr_result = ocr_file('images/db60044923000011.jpg')\n",
    "\n",
    "print(ocr_result)"
   ]
  }
 ],
 "metadata": {
  "kernelspec": {
   "display_name": "Python 3",
   "language": "python",
   "name": "python3"
  },
  "language_info": {
   "codemirror_mode": {
    "name": "ipython",
    "version": 3
   },
   "file_extension": ".py",
   "mimetype": "text/x-python",
   "name": "python",
   "nbconvert_exporter": "python",
   "pygments_lexer": "ipython3",
   "version": "3.8.10"
  }
 },
 "nbformat": 4,
 "nbformat_minor": 4
}
